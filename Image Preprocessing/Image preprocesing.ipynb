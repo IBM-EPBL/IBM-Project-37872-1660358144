{
 "cells": [
  {
   "cell_type": "code",
   "execution_count": 1,
   "metadata": {},
   "outputs": [],
   "source": [
    "from tensorflow.keras.preprocessing.image import ImageDataGenerator\n",
    "# Training Datagen\n",
    "train_datagen = ImageDataGenerator(rescale=1./255,shear_range=0.2,zoom_range=0.2,horizontal_flip=True)\n",
    "# Testing Datagen\n",
    "test_datagen = ImageDataGenerator(rescale=1)"
   ]
  },
  {
   "cell_type": "code",
   "execution_count": 2,
   "metadata": {},
   "outputs": [
    {
     "name": "stdout",
     "output_type": "stream",
     "text": [
      "Found 5384 images belonging to 6 classes.\n",
      "Found 1686 images belonging to 6 classes.\n"
     ]
    }
   ],
   "source": [
    "x_train = train_datagen.flow_from_directory('D:/Rajavarman/Documents/GitHub/IBM-Project-37872-1660358144/Dataset Plant Disease/fruit-dataset/fruit-dataset/train',target_size = (128,128),batch_size = 32, class_mode = 'categorical')\n",
    "x_test = test_datagen.flow_from_directory('D:/Rajavarman/Documents/GitHub/IBM-Project-37872-1660358144/Dataset Plant Disease/fruit-dataset/fruit-dataset/test', target_size = (128,128),batch_size = 32, class_mode = 'categorical')"
   ]
  }
 ],
 "metadata": {
  "kernelspec": {
   "display_name": "Python 3.10.8 64-bit (microsoft store)",
   "language": "python",
   "name": "python3"
  },
  "language_info": {
   "codemirror_mode": {
    "name": "ipython",
    "version": 3
   },
   "file_extension": ".py",
   "mimetype": "text/x-python",
   "name": "python",
   "nbconvert_exporter": "python",
   "pygments_lexer": "ipython3",
   "version": "3.10.8"
  },
  "orig_nbformat": 4,
  "vscode": {
   "interpreter": {
    "hash": "35cc0a91ce9630a6e690032be47be37cd19c07cb059364e6fe1aeef1bcae0098"
   }
  }
 },
 "nbformat": 4,
 "nbformat_minor": 2
}
