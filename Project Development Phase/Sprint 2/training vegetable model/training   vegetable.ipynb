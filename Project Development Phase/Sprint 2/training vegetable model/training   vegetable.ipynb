{
  "cells": [
    {
      "cell_type": "code",
      "execution_count": 3,
      "metadata": {
        "id": "llSR7QRtRzWE"
      },
      "outputs": [],
      "source": [
        "from tensorflow.keras.preprocessing.image import ImageDataGenerator\n",
        "import numpy as np # linear algebra\n",
        "import pandas as pd # data processing, CSV file I/O (e.g. pd.read_csv)\n",
        "import os\n",
        "import torch\n",
        "import torchvision\n",
        "import tarfile\n",
        "import torchvision\n",
        "from torch.utils.data import random_split\n",
        "from torchvision.datasets import ImageFolder\n",
        "from torchvision import transforms\n",
        "from torchvision.transforms import ToTensor\n",
        "from torch.utils.data.dataloader import DataLoader\n",
        "import torch.nn as nn\n",
        "from torchvision.utils import make_grid\n",
        "import torchvision.models as models\n",
        "import torch.nn.functional as F\n",
        "import matplotlib.pyplot as plt\n",
        "%matplotlib inline"
      ]
    },
    {
      "cell_type": "code",
      "execution_count": 4,
      "metadata": {
        "id": "SMcZPWQAg8gx"
      },
      "outputs": [],
      "source": [
        "train_datagen = ImageDataGenerator(rescale=1./255,\n",
        "                                   zoom_range=0.2,\n",
        "                                   horizontal_flip=True)\n",
        "test_datagen = ImageDataGenerator(rescale=1./255)"
      ]
    },
    {
      "cell_type": "code",
      "execution_count": 5,
      "metadata": {
        "colab": {
          "base_uri": "https://localhost:8080/"
        },
        "id": "VSBux5RXw590",
        "outputId": "09314e59-8212-44f7-e6b5-24fdf35cf137"
      },
      "outputs": [
        {
          "name": "stdout",
          "output_type": "stream",
          "text": [
            "Found 11386 images belonging to 9 classes.\n"
          ]
        }
      ],
      "source": [
        "xtrain = train_datagen.flow_from_directory('D:/Rajavarman/Documents/GitHub/IBM-Project-37872-1660358144/Dataset Plant Disease/Veg-dataset/Veg-dataset/train_set',\n",
        "                                           target_size=(64,64),\n",
        "                                           class_mode='categorical',\n",
        "                                           batch_size=10)\n"
      ]
    },
    {
      "cell_type": "code",
      "execution_count": 6,
      "metadata": {
        "id": "_XHR7mR0xFC3"
      },
      "outputs": [],
      "source": [
        "data_dir='D:/Rajavarman/Documents/GitHub/IBM-Project-37872-1660358144/Dataset Plant Disease/Veg-dataset/Veg-dataset/train_set'\n"
      ]
    },
    {
      "cell_type": "code",
      "execution_count": 7,
      "metadata": {
        "id": "9VhlN5_xxOKn"
      },
      "outputs": [],
      "source": [
        "transformer = torchvision.transforms.Compose(\n",
        "    [  # Applying Augmentation\n",
        "        torchvision.transforms.Resize((224, 224)),\n",
        "        torchvision.transforms.RandomHorizontalFlip(p=0.5),\n",
        "        torchvision.transforms.RandomVerticalFlip(p=0.5),\n",
        "        torchvision.transforms.RandomRotation(40),\n",
        "        torchvision.transforms.ToTensor(),\n",
        "        torchvision.transforms.Normalize(\n",
        "            mean=[0.4914, 0.4822, 0.4465], std=[0.2023, 0.1994, 0.2010]\n",
        "        ),\n",
        "    ]\n",
        ")\n",
        "database = ImageFolder(data_dir, transform=transformer)\n"
      ]
    },
    {
      "cell_type": "code",
      "execution_count": 8,
      "metadata": {
        "colab": {
          "base_uri": "https://localhost:8080/"
        },
        "id": "AQFgxQ3BxUl9",
        "outputId": "f3758c54-73a2-40ca-a739-cf1cc86f8a15"
      },
      "outputs": [
        {
          "name": "stdout",
          "output_type": "stream",
          "text": [
            "Found 3416 images belonging to 9 classes.\n"
          ]
        }
      ],
      "source": [
        "xtest = train_datagen.flow_from_directory('D:/Rajavarman/Documents/GitHub/IBM-Project-37872-1660358144/Dataset Plant Disease/Veg-dataset/Veg-dataset/test_set',\n",
        "                                           target_size=(64,64),\n",
        "                                           class_mode='categorical',\n",
        "                                           batch_size=10)\n"
      ]
    },
    {
      "cell_type": "code",
      "execution_count": 9,
      "metadata": {
        "id": "s4I7RqDhxcGi"
      },
      "outputs": [],
      "source": [
        "from tensorflow.keras.models import Sequential\n",
        "from tensorflow.keras.layers import Convolution2D,MaxPooling2D,Flatten,Dense"
      ]
    },
    {
      "cell_type": "code",
      "execution_count": 10,
      "metadata": {
        "id": "fGeK7tWmxhQ8"
      },
      "outputs": [],
      "source": [
        "model = Sequential()\n",
        "model.add(Convolution2D(32,(3,3),activation='relu',input_shape=(64,64,3))) \n",
        "model.add(MaxPooling2D(pool_size=(2,2))) \n",
        "model.add(Flatten()) \n",
        "model.add(Dense(300,activation='relu'))\n",
        "model.add(Dense(150,activation='relu'))\n",
        "model.add(Dense(4,activation='softmax'))"
      ]
    },
    {
      "cell_type": "code",
      "execution_count": 11,
      "metadata": {
        "id": "5JGggjlFxrXz"
      },
      "outputs": [],
      "source": [
        "model.compile(optimizer='adam',loss='categorical_crossentropy',metrics=['accuracy'])\n"
      ]
    },
    {
      "cell_type": "code",
      "execution_count": 12,
      "metadata": {
        "id": "9kT0LOVTxuFK"
      },
      "outputs": [],
      "source": [
        "from keras.callbacks import EarlyStopping,ReduceLROnPlateau\n"
      ]
    },
    {
      "cell_type": "code",
      "execution_count": 13,
      "metadata": {
        "id": "ERBPtVVixwin"
      },
      "outputs": [],
      "source": [
        "early_stopping=EarlyStopping(monitor='val_accuracy',\n",
        "                             patience=5)\n",
        "reduce_lr=ReduceLROnPlateau(monitor='val_accuracy',\n",
        "                            patience=5,\n",
        "                            factor=0,min_lr=0.00001)\n",
        "callback= [reduce_lr,early_stopping]\n"
      ]
    },
    {
      "cell_type": "code",
      "execution_count": null,
      "metadata": {
        "id": "_Yuva9EQx1eR"
      },
      "outputs": [],
      "source": [
        "model.fit_generator(xtrain, steps_per_epoch=len(xtrain), epochs=100,callbacks=callback,validation_data=xtest,validation_steps=len(xtest))\n"
      ]
    },
    {
      "cell_type": "code",
      "execution_count": 15,
      "metadata": {
        "id": "l-N1NDmkx6iP"
      },
      "outputs": [],
      "source": [
        "model.save('Vegetable.h5')"
      ]
    },
    {
      "cell_type": "code",
      "execution_count": 16,
      "metadata": {
        "colab": {
          "base_uri": "https://localhost:8080/",
          "height": 111
        },
        "id": "DSL85uoKyKws",
        "outputId": "6c9da41a-6064-4246-fa6f-bfc5b390fb9d"
      },
      "outputs": [
        {
          "data": {
            "image/png": "[encoded data removed]",
            "text/plain": [
              "<PIL.Image.Image image mode=RGB size=94x94 at 0x7F2EA0D88DD0>"
            ]
          },
          "execution_count": 16,
          "metadata": {},
          "output_type": "execute_result"
        }
      ],
      "source": [
        "import numpy as np\n",
        "from tensorflow.keras.preprocessing import image\n",
        "img = image.load_img('D:/Rajavarman/Documents/GitHub/IBM-Project-37872-1660358144/Dataset Plant Disease/Veg-dataset/Veg-dataset/train_set/Potato___Early_blight/001187a0-57ab-4329-baff-e7246a9edeb0___RS_Early.B 8178.JPG',target_size=(94,94))\n",
        "img"
      ]
    },
    {
      "cell_type": "code",
      "execution_count": 17,
      "metadata": {
        "colab": {
          "base_uri": "https://localhost:8080/"
        },
        "id": "FYdCPECmyX1I",
        "outputId": "25d03145-f1a9-4f78-87f7-221f713ec409"
      },
      "outputs": [
        {
          "data": {
            "text/plain": [
              "array([[[148., 145., 152.],\n",
              "        [145., 142., 149.],\n",
              "        [130., 127., 134.],\n",
              "        ...,\n",
              "        [171., 168., 175.],\n",
              "        [185., 182., 189.],\n",
              "        [180., 177., 184.]],\n",
              "\n",
              "       [[142., 139., 146.],\n",
              "        [157., 154., 161.],\n",
              "        [163., 160., 167.],\n",
              "        ...,\n",
              "        [174., 171., 178.],\n",
              "        [171., 168., 175.],\n",
              "        [182., 179., 186.]],\n",
              "\n",
              "       [[132., 129., 136.],\n",
              "        [134., 131., 138.],\n",
              "        [149., 146., 153.],\n",
              "        ...,\n",
              "        [174., 171., 178.],\n",
              "        [179., 176., 183.],\n",
              "        [179., 176., 183.]],\n",
              "\n",
              "       ...,\n",
              "\n",
              "       [[144., 140., 154.],\n",
              "        [134., 130., 144.],\n",
              "        [136., 132., 146.],\n",
              "        ...,\n",
              "        [164., 161., 170.],\n",
              "        [160., 159., 167.],\n",
              "        [167., 165., 176.]],\n",
              "\n",
              "       [[104., 100., 114.],\n",
              "        [132., 128., 142.],\n",
              "        [130., 126., 140.],\n",
              "        ...,\n",
              "        [159., 156., 163.],\n",
              "        [155., 154., 162.],\n",
              "        [161., 159., 172.]],\n",
              "\n",
              "       [[105., 101., 115.],\n",
              "        [132., 128., 142.],\n",
              "        [ 99.,  95., 109.],\n",
              "        ...,\n",
              "        [158., 155., 162.],\n",
              "        [155., 153., 164.],\n",
              "        [163., 161., 174.]]], dtype=float32)"
            ]
          },
          "execution_count": 17,
          "metadata": {},
          "output_type": "execute_result"
        }
      ],
      "source": [
        "x = image.img_to_array(img)\n",
        "x"
      ]
    },
    {
      "cell_type": "code",
      "execution_count": 18,
      "metadata": {
        "colab": {
          "base_uri": "https://localhost:8080/"
        },
        "id": "uZ9Wq2pwycu5",
        "outputId": "85e9ade6-74b2-4058-b558-90ddc94d25e7"
      },
      "outputs": [
        {
          "data": {
            "text/plain": [
              "array([[[[148., 145., 152.],\n",
              "         [145., 142., 149.],\n",
              "         [130., 127., 134.],\n",
              "         ...,\n",
              "         [171., 168., 175.],\n",
              "         [185., 182., 189.],\n",
              "         [180., 177., 184.]],\n",
              "\n",
              "        [[142., 139., 146.],\n",
              "         [157., 154., 161.],\n",
              "         [163., 160., 167.],\n",
              "         ...,\n",
              "         [174., 171., 178.],\n",
              "         [171., 168., 175.],\n",
              "         [182., 179., 186.]],\n",
              "\n",
              "        [[132., 129., 136.],\n",
              "         [134., 131., 138.],\n",
              "         [149., 146., 153.],\n",
              "         ...,\n",
              "         [174., 171., 178.],\n",
              "         [179., 176., 183.],\n",
              "         [179., 176., 183.]],\n",
              "\n",
              "        ...,\n",
              "\n",
              "        [[144., 140., 154.],\n",
              "         [134., 130., 144.],\n",
              "         [136., 132., 146.],\n",
              "         ...,\n",
              "         [164., 161., 170.],\n",
              "         [160., 159., 167.],\n",
              "         [167., 165., 176.]],\n",
              "\n",
              "        [[104., 100., 114.],\n",
              "         [132., 128., 142.],\n",
              "         [130., 126., 140.],\n",
              "         ...,\n",
              "         [159., 156., 163.],\n",
              "         [155., 154., 162.],\n",
              "         [161., 159., 172.]],\n",
              "\n",
              "        [[105., 101., 115.],\n",
              "         [132., 128., 142.],\n",
              "         [ 99.,  95., 109.],\n",
              "         ...,\n",
              "         [158., 155., 162.],\n",
              "         [155., 153., 164.],\n",
              "         [163., 161., 174.]]]], dtype=float32)"
            ]
          },
          "execution_count": 18,
          "metadata": {},
          "output_type": "execute_result"
        }
      ],
      "source": [
        "x = np.expand_dims(x,axis=0)\n",
        "x"
      ]
    },
    {
      "cell_type": "code",
      "execution_count": 19,
      "metadata": {
        "id": "bE4Wv1VDyg7z"
      },
      "outputs": [],
      "source": [
        "from keras.callbacks import EarlyStopping, ReduceLROnPlateau\n"
      ]
    },
    {
      "cell_type": "code",
      "execution_count": 20,
      "metadata": {
        "id": "B-1L6U2Wyl99"
      },
      "outputs": [],
      "source": [
        "early_stopping = EarlyStopping(monitor='val_accuracy',\n",
        "                        patience=5)\n",
        "reduce_lr = ReduceLROnPlateau(monitor='val_accuracy',\n",
        "                        patience=5,\n",
        "                        factor=0.5,min_lr=0.00001)\n",
        "\n",
        "callback = [reduce_lr,early_stopping]\n"
      ]
    },
    {
      "cell_type": "code",
      "execution_count": 22,
      "metadata": {
        "colab": {
          "base_uri": "https://localhost:8080/"
        },
        "id": "C3EXQceXyqii",
        "outputId": "3de45eda-253e-4821-fe58-75acdea6ca0f"
      },
      "outputs": [
        {
          "name": "stdout",
          "output_type": "stream",
          "text": [
            "1/1 [==============================] - 0s 116ms/step\n"
          ]
        }
      ],
      "source": [
        "img = image.load_img('D:/Rajavarman/Documents/GitHub/IBM-Project-37872-1660358144/Dataset Plant Disease/Veg-dataset/Veg-dataset/train_set/Potato___Early_blight/001187a0-57ab-4329-baff-e7246a9edeb0___RS_Early.B 8178.JPG',target_size=(64,64))\n",
        "x = image.img_to_array(img)\n",
        "x = np.expand_dims(x,axis=0)\n",
        "pred = np.argmax(model.predict(x))"
      ]
    },
    {
      "cell_type": "code",
      "execution_count": null,
      "metadata": {
        "id": "6hFFcIJ3yvw2"
      },
      "outputs": [],
      "source": []
    }
  ],
  "metadata": {
    "colab": {
      "provenance": []
    },
    "kernelspec": {
      "display_name": "Python 3.10.8 64-bit (microsoft store)",
      "language": "python",
      "name": "python3"
    },
    "language_info": {
      "name": "python",
      "version": "3.10.8"
    },
    "vscode": {
      "interpreter": {
        "hash": "e0acaf148705ed9ed86cc5cad12259d7985e30670e5686e5f55604a9b3b84a55"
      }
    }
  },
  "nbformat": 4,
  "nbformat_minor": 0
}
