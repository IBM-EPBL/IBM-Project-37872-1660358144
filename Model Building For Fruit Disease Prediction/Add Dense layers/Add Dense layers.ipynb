{
  "cells": [
    {
      "cell_type": "markdown",
      "metadata": {
        "id": "9bt18fyaktpd"
      },
      "source": [
        "##Add Dense layer\n"
      ]
    },
    {
      "cell_type": "code",
      "execution_count": 61,
      "metadata": {
        "colab": {
          "base_uri": "https://localhost:8080/"
        },
        "id": "jOktqiim7ql0",
        "outputId": "d5c49a06-adee-467b-adba-6f8a805a0e2a"
      },
      "outputs": [
        {
          "data": {
            "text/plain": [
              "225"
            ]
          },
          "execution_count": 61,
          "metadata": {},
          "output_type": "execute_result"
        }
      ],
      "source": [
        "model.add(Dense(300,kernel_initializer='uniform',activation='relu'))\n",
        "model.add(Dense(150,kernel_initializer='random_uniform',activation='relu'))\n",
        "model.add(Dense(9,kernel_initializer='random_uniform',activation='softmax'))\n",
        "model.compile(loss='categorical_crossentropy',optimizer='adam',metrics=['accuracy'])\n",
        "len(x_train)"
      ]
    },
    {
      "cell_type": "code",
      "execution_count": 30,
      "metadata": {
        "colab": {
          "base_uri": "https://localhost:8080/"
        },
        "id": "Kc2rPDS5qwgC",
        "outputId": "ec22c634-4bbf-47a3-cd60-0783db410ca0"
      },
      "outputs": [
        {
          "data": {
            "text/plain": [
              "71"
            ]
          },
          "execution_count": 30,
          "metadata": {},
          "output_type": "execute_result"
        }
      ],
      "source": [
        "len(x_test)"
      ]
    },
    {
      "cell_type": "code",
      "execution_count": 59,
      "metadata": {
        "colab": {
          "base_uri": "https://localhost:8080/"
        },
        "id": "271Ur9ZtpKEy",
        "outputId": "7772d56e-43e1-4b5d-c031-596524ab67af"
      },
      "outputs": [
        {
          "name": "stdout",
          "output_type": "stream",
          "text": [
            "Epoch 1/10\n",
            "225/225 [==============================] - 196s 865ms/step - loss: 1.6705 - accuracy: 0.3338 - val_loss: 1.6547 - val_accuracy: 0.2924\n",
            "Epoch 2/10\n",
            "225/225 [==============================] - 188s 836ms/step - loss: 1.6435 - accuracy: 0.3351 - val_loss: 1.6454 - val_accuracy: 0.2924\n",
            "Epoch 3/10\n",
            "225/225 [==============================] - 187s 830ms/step - loss: 1.6446 - accuracy: 0.3351 - val_loss: 1.6471 - val_accuracy: 0.2924\n",
            "Epoch 4/10\n",
            "225/225 [==============================] - 188s 833ms/step - loss: 1.6436 - accuracy: 0.3351 - val_loss: 1.6469 - val_accuracy: 0.2924\n",
            "Epoch 5/10\n",
            "225/225 [==============================] - 184s 820ms/step - loss: 1.6429 - accuracy: 0.3351 - val_loss: 1.6585 - val_accuracy: 0.2924\n",
            "Epoch 6/10\n",
            "225/225 [==============================] - 185s 822ms/step - loss: 1.6438 - accuracy: 0.3351 - val_loss: 1.6508 - val_accuracy: 0.2924\n",
            "Epoch 7/10\n",
            "225/225 [==============================] - 181s 806ms/step - loss: 1.6439 - accuracy: 0.3351 - val_loss: 1.6467 - val_accuracy: 0.2924\n",
            "Epoch 8/10\n",
            "225/225 [==============================] - 185s 822ms/step - loss: 1.6427 - accuracy: 0.3351 - val_loss: 1.6482 - val_accuracy: 0.2924\n",
            "Epoch 9/10\n",
            "225/225 [==============================] - 184s 816ms/step - loss: 1.6427 - accuracy: 0.3351 - val_loss: 1.6486 - val_accuracy: 0.2924\n",
            "Epoch 10/10\n",
            "225/225 [==============================] - 178s 791ms/step - loss: 1.6427 - accuracy: 0.3351 - val_loss: 1.6490 - val_accuracy: 0.2924\n"
          ]
        },
        {
          "data": {
            "text/plain": [
              "<keras.callbacks.History at 0x7fe95a675ed0>"
            ]
          },
          "execution_count": 59,
          "metadata": {},
          "output_type": "execute_result"
        }
      ],
      "source": [
        "model.fit(x_train,steps_per_epoch=len(x_train),validation_data=x_test,validation_steps=len(x_test),epochs=10)"
      ]
    },
    {
      "cell_type": "code",
      "execution_count": null,
      "metadata": {
        "id": "S92QHjsorrAC"
      },
      "outputs": [],
      "source": []
    }
  ],
  "metadata": {
    "colab": {
      "provenance": [],
      "toc_visible": true
    },
    "kernelspec": {
      "display_name": "Python 3.10.8 64-bit (microsoft store)",
      "language": "python",
      "name": "python3"
    },
    "language_info": {
      "name": "python",
      "version": "3.10.8"
    },
    "vscode": {
      "interpreter": {
        "hash": "35cc0a91ce9630a6e690032be47be37cd19c07cb059364e6fe1aeef1bcae0098"
      }
    }
  },
  "nbformat": 4,
  "nbformat_minor": 0
}
